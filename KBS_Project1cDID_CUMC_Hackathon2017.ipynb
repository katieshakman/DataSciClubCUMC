{
 "cells": [
  {
   "cell_type": "markdown",
   "metadata": {},
   "source": [
    "# Load and correlate a set of 6 traces (3 for cell1, 3 for cell2)"
   ]
  },
  {
   "cell_type": "code",
   "execution_count": 33,
   "metadata": {
    "collapsed": false
   },
   "outputs": [],
   "source": [
    "import numpy as np\n",
    "import pandas as pd\n",
    "import scipy\n",
    "import scipy.io as spio\n",
    "import seaborn as sns\n",
    "import matplotlib.pyplot as plt\n",
    "%matplotlib inline\n",
    "from os import listdir\n",
    "from os.path import isfile, join"
   ]
  },
  {
   "cell_type": "markdown",
   "metadata": {},
   "source": [
    "# Load data for each cell and genotype into a dataframe"
   ]
  },
  {
   "cell_type": "code",
   "execution_count": 62,
   "metadata": {
    "collapsed": false
   },
   "outputs": [
    {
     "data": {
      "text/html": [
       "<div>\n",
       "<table border=\"1\" class=\"dataframe\">\n",
       "  <thead>\n",
       "    <tr style=\"text-align: right;\">\n",
       "      <th></th>\n",
       "      <th>fly1</th>\n",
       "      <th>fly2</th>\n",
       "      <th>fly3</th>\n",
       "      <th>fly4</th>\n",
       "      <th>fly5</th>\n",
       "      <th>fly6</th>\n",
       "      <th>fly7</th>\n",
       "    </tr>\n",
       "  </thead>\n",
       "  <tbody>\n",
       "    <tr>\n",
       "      <th>0</th>\n",
       "      <td>0.312961</td>\n",
       "      <td>-0.580163</td>\n",
       "      <td>-0.598497</td>\n",
       "      <td>0.003492</td>\n",
       "      <td>0.385425</td>\n",
       "      <td>-0.837685</td>\n",
       "      <td>-0.647115</td>\n",
       "    </tr>\n",
       "    <tr>\n",
       "      <th>1</th>\n",
       "      <td>-0.545628</td>\n",
       "      <td>0.164981</td>\n",
       "      <td>0.590876</td>\n",
       "      <td>0.070686</td>\n",
       "      <td>0.452542</td>\n",
       "      <td>0.503481</td>\n",
       "      <td>-0.561781</td>\n",
       "    </tr>\n",
       "    <tr>\n",
       "      <th>2</th>\n",
       "      <td>0.171227</td>\n",
       "      <td>0.266987</td>\n",
       "      <td>0.051796</td>\n",
       "      <td>-0.511666</td>\n",
       "      <td>-0.210294</td>\n",
       "      <td>-0.271616</td>\n",
       "      <td>0.617057</td>\n",
       "    </tr>\n",
       "  </tbody>\n",
       "</table>\n",
       "</div>"
      ],
      "text/plain": [
       "       fly1      fly2      fly3      fly4      fly5      fly6      fly7\n",
       "0  0.312961 -0.580163 -0.598497  0.003492  0.385425 -0.837685 -0.647115\n",
       "1 -0.545628  0.164981  0.590876  0.070686  0.452542  0.503481 -0.561781\n",
       "2  0.171227  0.266987  0.051796 -0.511666 -0.210294 -0.271616  0.617057"
      ]
     },
     "execution_count": 62,
     "metadata": {},
     "output_type": "execute_result"
    }
   ],
   "source": [
    "# Load the neuron A control genotype data into a dataframe\n",
    "dfAc = pd.read_excel('AwithAchrim_ctrl1_20171013.xlsx',sheet_name=0, header=1)\n",
    "dfAc=dfAc[0:100]\n",
    "dfAc[0:3]"
   ]
  },
  {
   "cell_type": "code",
   "execution_count": 61,
   "metadata": {
    "collapsed": false
   },
   "outputs": [
    {
     "data": {
      "text/html": [
       "<div>\n",
       "<table border=\"1\" class=\"dataframe\">\n",
       "  <thead>\n",
       "    <tr style=\"text-align: right;\">\n",
       "      <th></th>\n",
       "      <th>AcMean</th>\n",
       "    </tr>\n",
       "  </thead>\n",
       "  <tbody>\n",
       "    <tr>\n",
       "      <th>0</th>\n",
       "      <td>-0.280226</td>\n",
       "    </tr>\n",
       "    <tr>\n",
       "      <th>1</th>\n",
       "      <td>0.096451</td>\n",
       "    </tr>\n",
       "    <tr>\n",
       "      <th>2</th>\n",
       "      <td>0.016213</td>\n",
       "    </tr>\n",
       "  </tbody>\n",
       "</table>\n",
       "</div>"
      ],
      "text/plain": [
       "     AcMean\n",
       "0 -0.280226\n",
       "1  0.096451\n",
       "2  0.016213"
      ]
     },
     "execution_count": 61,
     "metadata": {},
     "output_type": "execute_result"
    }
   ],
   "source": [
    "# Get means\n",
    "dfAcMean = pd.DataFrame({'AcMean':dfAc.mean(axis=1)})\n",
    "dfAcMean[0:3]"
   ]
  },
  {
   "cell_type": "code",
   "execution_count": 63,
   "metadata": {
    "collapsed": true
   },
   "outputs": [],
   "source": [
    "# Load the neuron B control genotype data into a dataframe\n",
    "dfBc = pd.read_excel('BwithAchrim_ctrl1_20171013.xlsx',sheet_name=0, header=1)  \n",
    "dfBc=dfBc[0:100]"
   ]
  },
  {
   "cell_type": "code",
   "execution_count": 65,
   "metadata": {
    "collapsed": false
   },
   "outputs": [
    {
     "data": {
      "text/html": [
       "<div>\n",
       "<table border=\"1\" class=\"dataframe\">\n",
       "  <thead>\n",
       "    <tr style=\"text-align: right;\">\n",
       "      <th></th>\n",
       "      <th>BcMean</th>\n",
       "    </tr>\n",
       "  </thead>\n",
       "  <tbody>\n",
       "    <tr>\n",
       "      <th>0</th>\n",
       "      <td>-0.175105</td>\n",
       "    </tr>\n",
       "    <tr>\n",
       "      <th>1</th>\n",
       "      <td>-0.026465</td>\n",
       "    </tr>\n",
       "    <tr>\n",
       "      <th>2</th>\n",
       "      <td>0.236116</td>\n",
       "    </tr>\n",
       "  </tbody>\n",
       "</table>\n",
       "</div>"
      ],
      "text/plain": [
       "     BcMean\n",
       "0 -0.175105\n",
       "1 -0.026465\n",
       "2  0.236116"
      ]
     },
     "execution_count": 65,
     "metadata": {},
     "output_type": "execute_result"
    }
   ],
   "source": [
    "# Get means\n",
    "dfBcMean = pd.DataFrame({'BcMean':dfBc.mean(axis=1)})\n",
    "dfBcMean[0:3]"
   ]
  },
  {
   "cell_type": "code",
   "execution_count": 36,
   "metadata": {
    "collapsed": false
   },
   "outputs": [
    {
     "data": {
      "text/html": [
       "<div>\n",
       "<table border=\"1\" class=\"dataframe\">\n",
       "  <thead>\n",
       "    <tr style=\"text-align: right;\">\n",
       "      <th></th>\n",
       "      <th>fly1</th>\n",
       "      <th>fly2</th>\n",
       "      <th>fly3</th>\n",
       "      <th>fly4</th>\n",
       "      <th>fly5</th>\n",
       "      <th>fly6</th>\n",
       "    </tr>\n",
       "  </thead>\n",
       "  <tbody>\n",
       "    <tr>\n",
       "      <th>0</th>\n",
       "      <td>0.481751</td>\n",
       "      <td>-0.351541</td>\n",
       "      <td>-0.181905</td>\n",
       "      <td>-0.223429</td>\n",
       "      <td>0.241106</td>\n",
       "      <td>0.336005</td>\n",
       "    </tr>\n",
       "  </tbody>\n",
       "</table>\n",
       "</div>"
      ],
      "text/plain": [
       "       fly1      fly2      fly3      fly4      fly5      fly6\n",
       "0  0.481751 -0.351541 -0.181905 -0.223429  0.241106  0.336005"
      ]
     },
     "execution_count": 36,
     "metadata": {},
     "output_type": "execute_result"
    }
   ],
   "source": [
    "# Load the cell B experimental (light-sensitive) genotype data\n",
    "dfBe = pd.read_excel('BwithAchrim_expt_20171013.xlsx',sheet_name=0, header=1)\n",
    "dfBe=dfBe[0:100]\n",
    "dfBe[0:1]"
   ]
  },
  {
   "cell_type": "code",
   "execution_count": 66,
   "metadata": {
    "collapsed": false
   },
   "outputs": [
    {
     "data": {
      "text/html": [
       "<div>\n",
       "<table border=\"1\" class=\"dataframe\">\n",
       "  <thead>\n",
       "    <tr style=\"text-align: right;\">\n",
       "      <th></th>\n",
       "      <th>BeMean</th>\n",
       "    </tr>\n",
       "  </thead>\n",
       "  <tbody>\n",
       "    <tr>\n",
       "      <th>0</th>\n",
       "      <td>0.050331</td>\n",
       "    </tr>\n",
       "    <tr>\n",
       "      <th>1</th>\n",
       "      <td>0.236128</td>\n",
       "    </tr>\n",
       "    <tr>\n",
       "      <th>2</th>\n",
       "      <td>0.346278</td>\n",
       "    </tr>\n",
       "  </tbody>\n",
       "</table>\n",
       "</div>"
      ],
      "text/plain": [
       "     BeMean\n",
       "0  0.050331\n",
       "1  0.236128\n",
       "2  0.346278"
      ]
     },
     "execution_count": 66,
     "metadata": {},
     "output_type": "execute_result"
    }
   ],
   "source": []
  },
  {
   "cell_type": "code",
   "execution_count": 37,
   "metadata": {
    "collapsed": false
   },
   "outputs": [
    {
     "data": {
      "text/html": [
       "<div>\n",
       "<table border=\"1\" class=\"dataframe\">\n",
       "  <thead>\n",
       "    <tr style=\"text-align: right;\">\n",
       "      <th></th>\n",
       "      <th>fly1</th>\n",
       "      <th>fly2</th>\n",
       "      <th>fly3</th>\n",
       "      <th>fly4</th>\n",
       "      <th>fly5</th>\n",
       "      <th>fly6</th>\n",
       "    </tr>\n",
       "  </thead>\n",
       "  <tbody>\n",
       "    <tr>\n",
       "      <th>0</th>\n",
       "      <td>-0.100264</td>\n",
       "      <td>-0.339643</td>\n",
       "      <td>-0.116948</td>\n",
       "      <td>-0.333907</td>\n",
       "      <td>-2.836228</td>\n",
       "      <td>-2.437536</td>\n",
       "    </tr>\n",
       "  </tbody>\n",
       "</table>\n",
       "</div>"
      ],
      "text/plain": [
       "       fly1      fly2      fly3      fly4      fly5      fly6\n",
       "0 -0.100264 -0.339643 -0.116948 -0.333907 -2.836228 -2.437536"
      ]
     },
     "execution_count": 37,
     "metadata": {},
     "output_type": "execute_result"
    }
   ],
   "source": [
    "# Load the cell A experimental (light-sensitive) genotype data\n",
    "dfAe = pd.read_excel('AwithAchrim_expt_20171013.xlsx',sheet_name=0, header=1)\n",
    "dfAe=dfAe[0:100]\n",
    "dfAe[0:1]"
   ]
  },
  {
   "cell_type": "code",
   "execution_count": 68,
   "metadata": {
    "collapsed": false
   },
   "outputs": [
    {
     "data": {
      "text/html": [
       "<div>\n",
       "<table border=\"1\" class=\"dataframe\">\n",
       "  <thead>\n",
       "    <tr style=\"text-align: right;\">\n",
       "      <th></th>\n",
       "      <th>AeMean</th>\n",
       "    </tr>\n",
       "  </thead>\n",
       "  <tbody>\n",
       "    <tr>\n",
       "      <th>0</th>\n",
       "      <td>-1.027421</td>\n",
       "    </tr>\n",
       "    <tr>\n",
       "      <th>1</th>\n",
       "      <td>-1.134583</td>\n",
       "    </tr>\n",
       "    <tr>\n",
       "      <th>2</th>\n",
       "      <td>-1.031204</td>\n",
       "    </tr>\n",
       "  </tbody>\n",
       "</table>\n",
       "</div>"
      ],
      "text/plain": [
       "     AeMean\n",
       "0 -1.027421\n",
       "1 -1.134583\n",
       "2 -1.031204"
      ]
     },
     "execution_count": 68,
     "metadata": {},
     "output_type": "execute_result"
    }
   ],
   "source": [
    "# Get means\n",
    "dfAeMean = pd.DataFrame({'AeMean':dfAe.mean(axis=1)})\n",
    "dfAeMean[0:3]"
   ]
  },
  {
   "cell_type": "markdown",
   "metadata": {
    "collapsed": false
   },
   "source": [
    "# Join the dataframes "
   ]
  },
  {
   "cell_type": "code",
   "execution_count": 69,
   "metadata": {
    "collapsed": false
   },
   "outputs": [
    {
     "data": {
      "text/html": [
       "<div>\n",
       "<table border=\"1\" class=\"dataframe\">\n",
       "  <thead>\n",
       "    <tr style=\"text-align: right;\">\n",
       "      <th></th>\n",
       "      <th>fly1</th>\n",
       "      <th>fly2</th>\n",
       "      <th>fly3</th>\n",
       "      <th>fly4</th>\n",
       "      <th>fly5</th>\n",
       "      <th>fly6</th>\n",
       "      <th>fly7</th>\n",
       "      <th>fly1</th>\n",
       "      <th>fly2</th>\n",
       "      <th>fly3</th>\n",
       "      <th>...</th>\n",
       "      <th>fly3</th>\n",
       "      <th>fly4</th>\n",
       "      <th>fly5</th>\n",
       "      <th>fly6</th>\n",
       "      <th>fly1</th>\n",
       "      <th>fly2</th>\n",
       "      <th>fly3</th>\n",
       "      <th>fly4</th>\n",
       "      <th>fly5</th>\n",
       "      <th>fly6</th>\n",
       "    </tr>\n",
       "  </thead>\n",
       "  <tbody>\n",
       "    <tr>\n",
       "      <th>0</th>\n",
       "      <td>-0.65938</td>\n",
       "      <td>-0.372606</td>\n",
       "      <td>-0.179531</td>\n",
       "      <td>-0.182738</td>\n",
       "      <td>-0.134835</td>\n",
       "      <td>0.611704</td>\n",
       "      <td>-0.308351</td>\n",
       "      <td>0.312961</td>\n",
       "      <td>-0.580163</td>\n",
       "      <td>-0.598497</td>\n",
       "      <td>...</td>\n",
       "      <td>-0.181905</td>\n",
       "      <td>-0.223429</td>\n",
       "      <td>0.241106</td>\n",
       "      <td>0.336005</td>\n",
       "      <td>-0.100264</td>\n",
       "      <td>-0.339643</td>\n",
       "      <td>-0.116948</td>\n",
       "      <td>-0.333907</td>\n",
       "      <td>-2.836228</td>\n",
       "      <td>-2.437536</td>\n",
       "    </tr>\n",
       "  </tbody>\n",
       "</table>\n",
       "<p>1 rows × 26 columns</p>\n",
       "</div>"
      ],
      "text/plain": [
       "      fly1      fly2      fly3      fly4      fly5      fly6      fly7  \\\n",
       "0 -0.65938 -0.372606 -0.179531 -0.182738 -0.134835  0.611704 -0.308351   \n",
       "\n",
       "       fly1      fly2      fly3    ...         fly3      fly4      fly5  \\\n",
       "0  0.312961 -0.580163 -0.598497    ...    -0.181905 -0.223429  0.241106   \n",
       "\n",
       "       fly6      fly1      fly2      fly3      fly4      fly5      fly6  \n",
       "0  0.336005 -0.100264 -0.339643 -0.116948 -0.333907 -2.836228 -2.437536  \n",
       "\n",
       "[1 rows x 26 columns]"
      ]
     },
     "execution_count": 69,
     "metadata": {},
     "output_type": "execute_result"
    }
   ],
   "source": [
    "# Fly by fly data\n",
    "frames = [dfBc, dfAc, dfBe, dfAe]\n",
    "dfAll = pd.concat(frames,axis=1)\n",
    "dfAll[0:1]"
   ]
  },
  {
   "cell_type": "code",
   "execution_count": 76,
   "metadata": {
    "collapsed": false
   },
   "outputs": [
    {
     "data": {
      "text/html": [
       "<div>\n",
       "<table border=\"1\" class=\"dataframe\">\n",
       "  <thead>\n",
       "    <tr style=\"text-align: right;\">\n",
       "      <th></th>\n",
       "      <th>BcMean</th>\n",
       "      <th>BeMean</th>\n",
       "      <th>AcMean</th>\n",
       "      <th>AeMean</th>\n",
       "    </tr>\n",
       "  </thead>\n",
       "  <tbody>\n",
       "    <tr>\n",
       "      <th>0</th>\n",
       "      <td>-0.175105</td>\n",
       "      <td>0.050331</td>\n",
       "      <td>-0.280226</td>\n",
       "      <td>-1.027421</td>\n",
       "    </tr>\n",
       "    <tr>\n",
       "      <th>1</th>\n",
       "      <td>-0.026465</td>\n",
       "      <td>0.236128</td>\n",
       "      <td>0.096451</td>\n",
       "      <td>-1.134583</td>\n",
       "    </tr>\n",
       "    <tr>\n",
       "      <th>2</th>\n",
       "      <td>0.236116</td>\n",
       "      <td>0.346278</td>\n",
       "      <td>0.016213</td>\n",
       "      <td>-1.031204</td>\n",
       "    </tr>\n",
       "  </tbody>\n",
       "</table>\n",
       "</div>"
      ],
      "text/plain": [
       "     BcMean    BeMean    AcMean    AeMean\n",
       "0 -0.175105  0.050331 -0.280226 -1.027421\n",
       "1 -0.026465  0.236128  0.096451 -1.134583\n",
       "2  0.236116  0.346278  0.016213 -1.031204"
      ]
     },
     "execution_count": 76,
     "metadata": {},
     "output_type": "execute_result"
    }
   ],
   "source": [
    "# Means for each condition\n",
    "framesMeans = [dfBcMean, dfBeMean, dfAcMean, dfAeMean]\n",
    "dfMeans = pd.concat(framesMeans,axis=1)\n",
    "dfMeans[0:3]"
   ]
  },
  {
   "cell_type": "markdown",
   "metadata": {},
   "source": [
    "# Calculate correlations"
   ]
  },
  {
   "cell_type": "code",
   "execution_count": 77,
   "metadata": {
    "collapsed": false
   },
   "outputs": [],
   "source": [
    "# Fly by fly\n",
    "corrMat = dfAll.corr(method='spearman')"
   ]
  },
  {
   "cell_type": "code",
   "execution_count": 78,
   "metadata": {
    "collapsed": false
   },
   "outputs": [],
   "source": [
    "# Means only\n",
    "corrMatMeans = dfMeans.corr(method='spearman')"
   ]
  },
  {
   "cell_type": "markdown",
   "metadata": {},
   "source": [
    "# Make a heatmap of the Spearman Correlations of the Means"
   ]
  },
  {
   "cell_type": "code",
   "execution_count": 79,
   "metadata": {
    "collapsed": false
   },
   "outputs": [
    {
     "data": {
      "image/png": "[encoded data removed]",
      "text/plain": [
       "<matplotlib.figure.Figure at 0x114e7a3c8>"
      ]
     },
     "metadata": {},
     "output_type": "display_data"
    }
   ],
   "source": [
    "mask = np.zeros_like(corrMatMeans)\n",
    "mask[np.triu_indices_from(mask)] = True\n",
    "with sns.axes_style(\"white\"):\n",
    "    ax = sns.heatmap(corrMatMeans, mask=mask, square=True, annot=True).set_title('Correlations Between a Pair of Cells')"
   ]
  },
  {
   "cell_type": "markdown",
   "metadata": {},
   "source": [
    "# What does this mean?\n",
    "* Neuron B in genotype c is highly correlated with Neuron B in genotype e.  \n",
    "* Neuron A in in genotype c is uncorrelated with Neuron A in genotype e.  This is not surprising, since flies are experiencing a flash of light which can activate A in genotype e, but not in genotype c. \n",
    "* We wanted to know whether activating A corresponds to a change in correlation between A and B, so we want to look at Corr(BcMean,AcMean) vs Corr(BeMean,AeMean).  Corr(BcMean,AcMean) = 0.47 and Corr(BeMean,AeMean) = 0.27, so it appears that the average responses of A and B were less correlated when Neuron A was activated.  \n"
   ]
  },
  {
   "cell_type": "code",
   "execution_count": null,
   "metadata": {
    "collapsed": true
   },
   "outputs": [],
   "source": []
  }
 ],
 "metadata": {
  "anaconda-cloud": {},
  "kernelspec": {
   "display_name": "Python [conda root]",
   "language": "python",
   "name": "conda-root-py"
  },
  "language_info": {
   "codemirror_mode": {
    "name": "ipython",
    "version": 3
   },
   "file_extension": ".py",
   "mimetype": "text/x-python",
   "name": "python",
   "nbconvert_exporter": "python",
   "pygments_lexer": "ipython3",
   "version": "3.5.2"
  }
 },
 "nbformat": 4,
 "nbformat_minor": 1
}
