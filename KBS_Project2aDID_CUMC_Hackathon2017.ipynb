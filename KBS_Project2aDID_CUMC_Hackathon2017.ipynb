{
 "cells": [
  {
   "cell_type": "markdown",
   "metadata": {},
   "source": [
    "Decoding Stimulus a Neural Activity Dataset with a Support Vector Machine \n",
    "Author: Katherine Shakman"
   ]
  },
  {
   "cell_type": "markdown",
   "metadata": {},
   "source": [
    "# Goal: Decode stimulus type from activity 2 neurons "
   ]
  },
  {
   "cell_type": "markdown",
   "metadata": {
    "collapsed": true
   },
   "source": [
    "### We are going to train a classifier to output the stimulus (0 for a chemosensory stimulus, 1 for a flashing light) given an input of a 1x200 matrix of ordered values (two vectors appended one after the other) that represent the activity levels of two neurons over a period of time that includes the stimulus presentation.  "
   ]
  },
  {
   "cell_type": "code",
   "execution_count": 24,
   "metadata": {
    "collapsed": false
   },
   "outputs": [],
   "source": [
    "import numpy as np\n",
    "import pandas as pd\n",
    "import scipy\n",
    "import scipy.io as spio\n",
    "import seaborn as sns\n",
    "import matplotlib.pyplot as plt\n",
    "import itertools\n",
    "from sklearn.model_selection import train_test_split\n",
    "from sklearn.svm import SVC\n",
    "from sklearn.metrics import confusion_matrix"
   ]
  },
  {
   "cell_type": "markdown",
   "metadata": {},
   "source": [
    "# Load the light data as a dataframe"
   ]
  },
  {
   "cell_type": "code",
   "execution_count": 25,
   "metadata": {
    "collapsed": false
   },
   "outputs": [
    {
     "data": {
      "text/html": [
       "<div>\n",
       "<table border=\"1\" class=\"dataframe\">\n",
       "  <thead>\n",
       "    <tr style=\"text-align: right;\">\n",
       "      <th></th>\n",
       "      <th>fly1</th>\n",
       "      <th>fly2</th>\n",
       "      <th>fly3</th>\n",
       "      <th>fly5</th>\n",
       "      <th>fly6</th>\n",
       "    </tr>\n",
       "  </thead>\n",
       "  <tbody>\n",
       "    <tr>\n",
       "      <th>0</th>\n",
       "      <td>0.481751</td>\n",
       "      <td>-0.351541</td>\n",
       "      <td>-0.181905</td>\n",
       "      <td>0.241106</td>\n",
       "      <td>0.336005</td>\n",
       "    </tr>\n",
       "    <tr>\n",
       "      <th>1</th>\n",
       "      <td>0.539349</td>\n",
       "      <td>-0.350023</td>\n",
       "      <td>0.108446</td>\n",
       "      <td>0.139394</td>\n",
       "      <td>1.456428</td>\n",
       "    </tr>\n",
       "    <tr>\n",
       "      <th>2</th>\n",
       "      <td>1.076478</td>\n",
       "      <td>-0.461372</td>\n",
       "      <td>0.172692</td>\n",
       "      <td>-0.007123</td>\n",
       "      <td>0.955638</td>\n",
       "    </tr>\n",
       "  </tbody>\n",
       "</table>\n",
       "</div>"
      ],
      "text/plain": [
       "       fly1      fly2      fly3      fly5      fly6\n",
       "0  0.481751 -0.351541 -0.181905  0.241106  0.336005\n",
       "1  0.539349 -0.350023  0.108446  0.139394  1.456428\n",
       "2  1.076478 -0.461372  0.172692 -0.007123  0.955638"
      ]
     },
     "execution_count": 25,
     "metadata": {},
     "output_type": "execute_result"
    }
   ],
   "source": [
    "dfL = pd.read_excel('light_chrGeno_BthenAtraces.xlsx',sheet_name=0)\n",
    "dfL[0:3]"
   ]
  },
  {
   "cell_type": "markdown",
   "metadata": {},
   "source": [
    "# Load the chemosensory stimulus data as a dataframe"
   ]
  },
  {
   "cell_type": "code",
   "execution_count": 26,
   "metadata": {
    "collapsed": false
   },
   "outputs": [
    {
     "data": {
      "text/html": [
       "<div>\n",
       "<table border=\"1\" class=\"dataframe\">\n",
       "  <thead>\n",
       "    <tr style=\"text-align: right;\">\n",
       "      <th></th>\n",
       "      <th>fly1</th>\n",
       "      <th>fly2</th>\n",
       "      <th>fly3</th>\n",
       "      <th>fly5</th>\n",
       "      <th>fly6</th>\n",
       "    </tr>\n",
       "  </thead>\n",
       "  <tbody>\n",
       "    <tr>\n",
       "      <th>0</th>\n",
       "      <td>-0.842432</td>\n",
       "      <td>-1.091211</td>\n",
       "      <td>0.250048</td>\n",
       "      <td>-0.217688</td>\n",
       "      <td>2.448144</td>\n",
       "    </tr>\n",
       "    <tr>\n",
       "      <th>1</th>\n",
       "      <td>-0.496674</td>\n",
       "      <td>0.526013</td>\n",
       "      <td>-0.211908</td>\n",
       "      <td>-0.490600</td>\n",
       "      <td>2.180330</td>\n",
       "    </tr>\n",
       "    <tr>\n",
       "      <th>2</th>\n",
       "      <td>-0.032417</td>\n",
       "      <td>0.337636</td>\n",
       "      <td>-0.051828</td>\n",
       "      <td>-0.053354</td>\n",
       "      <td>1.119374</td>\n",
       "    </tr>\n",
       "  </tbody>\n",
       "</table>\n",
       "</div>"
      ],
      "text/plain": [
       "       fly1      fly2      fly3      fly5      fly6\n",
       "0 -0.842432 -1.091211  0.250048 -0.217688  2.448144\n",
       "1 -0.496674  0.526013 -0.211908 -0.490600  2.180330\n",
       "2 -0.032417  0.337636 -0.051828 -0.053354  1.119374"
      ]
     },
     "execution_count": 26,
     "metadata": {},
     "output_type": "execute_result"
    }
   ],
   "source": [
    "dfB = pd.read_excel('chem_chrGeno_BthenAtraces.xlsx',sheet_name=0)\n",
    "dfB[0:3]"
   ]
  },
  {
   "cell_type": "markdown",
   "metadata": {
    "collapsed": false
   },
   "source": [
    "# Join the dataframes"
   ]
  },
  {
   "cell_type": "code",
   "execution_count": 27,
   "metadata": {
    "collapsed": false
   },
   "outputs": [
    {
     "data": {
      "text/html": [
       "<div>\n",
       "<table border=\"1\" class=\"dataframe\">\n",
       "  <thead>\n",
       "    <tr style=\"text-align: right;\">\n",
       "      <th></th>\n",
       "      <th>fly1</th>\n",
       "      <th>fly2</th>\n",
       "      <th>fly3</th>\n",
       "      <th>fly5</th>\n",
       "      <th>fly6</th>\n",
       "      <th>fly1</th>\n",
       "      <th>fly2</th>\n",
       "      <th>fly3</th>\n",
       "      <th>fly5</th>\n",
       "      <th>fly6</th>\n",
       "    </tr>\n",
       "  </thead>\n",
       "  <tbody>\n",
       "    <tr>\n",
       "      <th>0</th>\n",
       "      <td>0.481751</td>\n",
       "      <td>-0.351541</td>\n",
       "      <td>-0.181905</td>\n",
       "      <td>0.241106</td>\n",
       "      <td>0.336005</td>\n",
       "      <td>-0.842432</td>\n",
       "      <td>-1.091211</td>\n",
       "      <td>0.250048</td>\n",
       "      <td>-0.217688</td>\n",
       "      <td>2.448144</td>\n",
       "    </tr>\n",
       "    <tr>\n",
       "      <th>1</th>\n",
       "      <td>0.539349</td>\n",
       "      <td>-0.350023</td>\n",
       "      <td>0.108446</td>\n",
       "      <td>0.139394</td>\n",
       "      <td>1.456428</td>\n",
       "      <td>-0.496674</td>\n",
       "      <td>0.526013</td>\n",
       "      <td>-0.211908</td>\n",
       "      <td>-0.490600</td>\n",
       "      <td>2.180330</td>\n",
       "    </tr>\n",
       "    <tr>\n",
       "      <th>2</th>\n",
       "      <td>1.076478</td>\n",
       "      <td>-0.461372</td>\n",
       "      <td>0.172692</td>\n",
       "      <td>-0.007123</td>\n",
       "      <td>0.955638</td>\n",
       "      <td>-0.032417</td>\n",
       "      <td>0.337636</td>\n",
       "      <td>-0.051828</td>\n",
       "      <td>-0.053354</td>\n",
       "      <td>1.119374</td>\n",
       "    </tr>\n",
       "  </tbody>\n",
       "</table>\n",
       "</div>"
      ],
      "text/plain": [
       "       fly1      fly2      fly3      fly5      fly6      fly1      fly2  \\\n",
       "0  0.481751 -0.351541 -0.181905  0.241106  0.336005 -0.842432 -1.091211   \n",
       "1  0.539349 -0.350023  0.108446  0.139394  1.456428 -0.496674  0.526013   \n",
       "2  1.076478 -0.461372  0.172692 -0.007123  0.955638 -0.032417  0.337636   \n",
       "\n",
       "       fly3      fly5      fly6  \n",
       "0  0.250048 -0.217688  2.448144  \n",
       "1 -0.211908 -0.490600  2.180330  \n",
       "2 -0.051828 -0.053354  1.119374  "
      ]
     },
     "execution_count": 27,
     "metadata": {},
     "output_type": "execute_result"
    }
   ],
   "source": [
    "frames = [dfL, dfB]\n",
    "dfAll = pd.concat(frames,axis=1)\n",
    "dfAll[0:3]"
   ]
  },
  {
   "cell_type": "code",
   "execution_count": 28,
   "metadata": {
    "collapsed": false
   },
   "outputs": [],
   "source": [
    "# Prepare df for the classifier\n",
    "X = dfAll.transpose()\n",
    "# Get labels for the classifier \n",
    "y = [0,0,0,0,0,1,1,1,1,1]"
   ]
  },
  {
   "cell_type": "markdown",
   "metadata": {
    "collapsed": false
   },
   "source": [
    "# Split into training and test sets "
   ]
  },
  {
   "cell_type": "code",
   "execution_count": 6,
   "metadata": {
    "collapsed": false
   },
   "outputs": [],
   "source": [
    "X_train1, X_test1, y_train1, y_test1 = train_test_split(X, y, test_size=0.2, random_state=41)\n",
    "X_train2, X_test2, y_train2, y_test2 = train_test_split(X, y, test_size=0.2, random_state=42)\n",
    "X_train3, X_test3, y_train3, y_test3 = train_test_split(X, y, test_size=0.2, random_state=43)"
   ]
  },
  {
   "cell_type": "markdown",
   "metadata": {},
   "source": [
    "# Train SVM Classifier"
   ]
  },
  {
   "cell_type": "code",
   "execution_count": 7,
   "metadata": {
    "collapsed": false
   },
   "outputs": [
    {
     "data": {
      "text/plain": [
       "SVC(C=1.0, cache_size=200, class_weight=None, coef0=0.0,\n",
       "  decision_function_shape='ovr', degree=3, gamma='auto', kernel='rbf',\n",
       "  max_iter=-1, probability=False, random_state=None, shrinking=True,\n",
       "  tol=0.001, verbose=False)"
      ]
     },
     "execution_count": 7,
     "metadata": {},
     "output_type": "execute_result"
    }
   ],
   "source": [
    "clf1 = SVC()\n",
    "clf1.fit(X_train1, y_train1) \n",
    "\n",
    "clf2 = SVC()\n",
    "clf2.fit(X_train2,y_train2)\n",
    "\n",
    "clf3 = SVC()\n",
    "clf3.fit(X_train3,y_train3)"
   ]
  },
  {
   "cell_type": "code",
   "execution_count": 8,
   "metadata": {
    "collapsed": false
   },
   "outputs": [
    {
     "name": "stdout",
     "output_type": "stream",
     "text": [
      "predictions: [0, 1, 1, 0, 0, 1]\n",
      "labels: [1, 1, 1, 0, 0, 1]\n",
      "scores: [0.5, 1.0, 1.0]\n",
      "average score: 0.833333333333\n"
     ]
    }
   ],
   "source": [
    "out1 = clf1.predict(X_test1)\n",
    "out2 = clf2.predict(X_test2)\n",
    "out3 = clf3.predict(X_test3)\n",
    "score1 = clf1.score(X_test1,y_test1)\n",
    "score2 = clf2.score(X_test2,y_test2)\n",
    "score3 = clf3.score(X_test3,y_test3)\n",
    "predictions = [list(out1)+list(out2)+list(out3)]\n",
    "predictions = predictions[0]\n",
    "scores = [score1,score2,score3]\n",
    "labels = [y_test1+y_test2+y_test3]\n",
    "labels = labels[0]\n",
    "print('predictions:',predictions)\n",
    "print('labels:',labels)\n",
    "print('scores:',scores)\n",
    "print('average score:',np.mean(scores))\n"
   ]
  },
  {
   "cell_type": "code",
   "execution_count": 10,
   "metadata": {
    "collapsed": false
   },
   "outputs": [],
   "source": [
    "cm=confusion_matrix(labels, predictions)"
   ]
  },
  {
   "cell_type": "code",
   "execution_count": 21,
   "metadata": {
    "collapsed": false
   },
   "outputs": [
    {
     "name": "stdout",
     "output_type": "stream",
     "text": [
      "Confusion matrix, without normalization\n",
      "[[2 0]\n",
      " [1 3]]\n",
      "Normalized confusion matrix\n",
      "[[ 1.    0.  ]\n",
      " [ 0.25  0.75]]\n"
     ]
    },
    {
     "data": {
      "image/png": "[encoded data removed]",
      "text/plain": [
       "<matplotlib.figure.Figure at 0x11427d588>"
      ]
     },
     "metadata": {},
     "output_type": "display_data"
    },
    {
     "data": {
      "image/png": "[encoded data removed]",
      "text/plain": [
       "<matplotlib.figure.Figure at 0x11496deb8>"
      ]
     },
     "metadata": {},
     "output_type": "display_data"
    }
   ],
   "source": [
    "class_names = ['Light','Chem']\n",
    "def plot_confusion_matrix(cm, classes,\n",
    "                          normalize=False,\n",
    "                          title='Confusion matrix',\n",
    "                          cmap=plt.cm.Blues):\n",
    "    \"\"\"\n",
    "    This function is from the scikit-learn documentation. \n",
    "    This function prints and plots the confusion matrix.\n",
    "    Normalization can be applied by setting `normalize=True`.\n",
    "    \"\"\"\n",
    "    if normalize:\n",
    "        cm = cm.astype('float') / cm.sum(axis=1)[:, np.newaxis]\n",
    "        print(\"Normalized confusion matrix\")\n",
    "    else:\n",
    "        print('Confusion matrix, without normalization')\n",
    "\n",
    "    print(cm)\n",
    "\n",
    "    plt.imshow(cm, interpolation='nearest', cmap=cmap)\n",
    "    plt.title(title)\n",
    "    plt.colorbar()\n",
    "    tick_marks = np.arange(len(classes))\n",
    "    plt.xticks(tick_marks, classes, rotation=45)\n",
    "    plt.yticks(tick_marks, classes)\n",
    "\n",
    "    fmt = '.2f' if normalize else 'd'\n",
    "    thresh = cm.max() / 2.\n",
    "    for i, j in itertools.product(range(cm.shape[0]), range(cm.shape[1])):\n",
    "        plt.text(j, i, format(cm[i, j], fmt),\n",
    "                 horizontalalignment=\"center\",\n",
    "                 color=\"white\" if cm[i, j] > thresh else \"black\")\n",
    "\n",
    "    plt.tight_layout()\n",
    "    plt.ylabel('True label')\n",
    "    plt.xlabel('Predicted label')\n",
    "\n",
    "# Compute confusion matrix\n",
    "#cnf_matrix = confusion_matrix(y_test, y_pred)\n",
    "cnf_matrix = cm\n",
    "np.set_printoptions(precision=2)\n",
    "\n",
    "# Plot non-normalized confusion matrix\n",
    "plt.figure()\n",
    "plot_confusion_matrix(cnf_matrix, classes=class_names,\n",
    "                      title='Confusion matrix, without normalization')\n",
    "\n",
    "# Plot normalized confusion matrix\n",
    "plt.figure()\n",
    "plot_confusion_matrix(cnf_matrix, classes=class_names, normalize=True,\n",
    "                      title='Normalized confusion matrix')\n",
    "\n",
    "plt.show()"
   ]
  },
  {
   "cell_type": "markdown",
   "metadata": {
    "collapsed": false
   },
   "source": [
    "# What does this mean? \n",
    "* The confusion matrix tells us, for each class/stimulus, how often the classifier predicted each label.  The top figure shows counts, and the bottom figure shows frequencies.  \n",
    "* For the Light stimulus, the decoder output was correct 100% of the time (2/2).  \n",
    "* For the Chem stimulus, the decoder output was correct 75% of the time (3/4).  \n",
    "* Even though this was a tiny dataset, the data was nicely separable into the two classes and the SVM classifier was able to output the correct stimulus most of the time.  "
   ]
  }
 ],
 "metadata": {
  "anaconda-cloud": {},
  "kernelspec": {
   "display_name": "Python [conda root]",
   "language": "python",
   "name": "conda-root-py"
  },
  "language_info": {
   "codemirror_mode": {
    "name": "ipython",
    "version": 3
   },
   "file_extension": ".py",
   "mimetype": "text/x-python",
   "name": "python",
   "nbconvert_exporter": "python",
   "pygments_lexer": "ipython3",
   "version": "3.5.2"
  }
 },
 "nbformat": 4,
 "nbformat_minor": 1
}
